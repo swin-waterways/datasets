{
 "cells": [
  {
   "cell_type": "code",
   "execution_count": 1,
   "id": "582c6f04",
   "metadata": {
    "metadata": {}
   },
   "outputs": [],
   "source": [
    "import update_datasets"
   ]
  },
  {
   "cell_type": "code",
   "execution_count": 2,
   "id": "66c4dee6",
   "metadata": {
    "metadata": {}
   },
   "outputs": [
    {
     "name": "stdout",
     "output_type": "stream",
     "text": [
      "http://bom.gov.au/waterdata/services/stations/405779\n",
      "http://bom.gov.au/waterdata/services/stations/GW500596.3.3\n"
     ]
    },
    {
     "ename": "TypeError",
     "evalue": "'NoneType' object is not subscriptable",
     "output_type": "error",
     "traceback": [
      "\u001b[0;31m---------------------------------------------------------------------------\u001b[0m",
      "\u001b[0;31mTypeError\u001b[0m                                 Traceback (most recent call last)",
      "Cell \u001b[0;32mIn[2], line 1\u001b[0m\n\u001b[0;32m----> 1\u001b[0m \u001b[43mupdate_datasets\u001b[49m\u001b[38;5;241;43m.\u001b[39;49m\u001b[43mdownload_bom\u001b[49m\u001b[43m(\u001b[49m\u001b[43m)\u001b[49m\n",
      "File \u001b[0;32m~/src/swin-waterways/datasets/update_datasets.py:112\u001b[0m, in \u001b[0;36mdownload_bom\u001b[0;34m()\u001b[0m\n\u001b[1;32m    108\u001b[0m proced \u001b[38;5;241m=\u001b[39m bm\u001b[38;5;241m.\u001b[39mprocedures\u001b[38;5;241m.\u001b[39mPat9_C_B_1\n\u001b[1;32m    110\u001b[0m bbox \u001b[38;5;241m=\u001b[39m [\u001b[38;5;28;01mNone\u001b[39;00m, \u001b[38;5;28;01mNone\u001b[39;00m]\n\u001b[0;32m--> 112\u001b[0m results \u001b[38;5;241m=\u001b[39m \u001b[43mbm\u001b[49m\u001b[38;5;241;43m.\u001b[39;49m\u001b[43mget_observations\u001b[49m\u001b[43m(\u001b[49m\u001b[43mfeatures\u001b[49m\u001b[43m,\u001b[49m\u001b[43m \u001b[49m\u001b[43mprop\u001b[49m\u001b[43m,\u001b[49m\u001b[43m \u001b[49m\u001b[43mproced\u001b[49m\u001b[43m,\u001b[49m\u001b[43m \u001b[49m\u001b[43mt_begin\u001b[49m\u001b[43m,\u001b[49m\u001b[43m \u001b[49m\u001b[43mt_end\u001b[49m\u001b[43m,\u001b[49m\u001b[43m \u001b[49m\u001b[43mbbox\u001b[49m\u001b[43m)\u001b[49m\n\u001b[1;32m    113\u001b[0m results[\u001b[38;5;241m0\u001b[39m][bm\u001b[38;5;241m.\u001b[39mfeatures\u001b[38;5;241m.\u001b[39mSHEPPARTON_DR_11][\u001b[38;5;124m'\u001b[39m\u001b[38;5;124mWater Course Discharge [m]\u001b[39m\u001b[38;5;124m'\u001b[39m]\u001b[38;5;241m.\u001b[39mplot\u001b[38;5;241m.\u001b[39mline()\n",
      "File \u001b[0;32m~/src/swin-waterways/datasets/.venv/lib/python3.11/site-packages/pybomwater/bom_water.py:368\u001b[0m, in \u001b[0;36mBomWater.get_observations\u001b[0;34m(self, features, property, procedure, t_begin, t_end, bbox)\u001b[0m\n\u001b[1;32m    366\u001b[0m response \u001b[38;5;241m=\u001b[39m \u001b[38;5;28mself\u001b[39m\u001b[38;5;241m.\u001b[39mrequest(\u001b[38;5;28mself\u001b[39m\u001b[38;5;241m.\u001b[39mactions\u001b[38;5;241m.\u001b[39mGetFeatureOfInterest, features, \u001b[38;5;28mproperty\u001b[39m, procedure, t_begin, t_end, bbox[\u001b[38;5;241m0\u001b[39m], bbox[\u001b[38;5;241m1\u001b[39m]  )\n\u001b[1;32m    367\u001b[0m response_json \u001b[38;5;241m=\u001b[39m \u001b[38;5;28mself\u001b[39m\u001b[38;5;241m.\u001b[39mxml_to_json(response\u001b[38;5;241m.\u001b[39mtext)\n\u001b[0;32m--> 368\u001b[0m feature_list \u001b[38;5;241m=\u001b[39m \u001b[38;5;28;43mself\u001b[39;49m\u001b[38;5;241;43m.\u001b[39;49m\u001b[43mcreate_feature_list\u001b[49m\u001b[43m(\u001b[49m\u001b[43mresponse_json\u001b[49m\u001b[43m,\u001b[49m\u001b[43m \u001b[49m\u001b[38;5;28;43;01mNone\u001b[39;49;00m\u001b[43m \u001b[49m\u001b[43m)\u001b[49m\n\u001b[1;32m    369\u001b[0m \u001b[38;5;66;03m# station_no = []\u001b[39;00m\n\u001b[1;32m    370\u001b[0m \u001b[38;5;66;03m# for site in feature_list['features']:\u001b[39;00m\n\u001b[1;32m    371\u001b[0m \u001b[38;5;66;03m#     station_no.append(site['properties']['long_name'])\u001b[39;00m\n\u001b[0;32m   (...)\u001b[0m\n\u001b[1;32m    380\u001b[0m \n\u001b[1;32m    381\u001b[0m \u001b[38;5;66;03m# return datasets\u001b[39;00m\n\u001b[1;32m    382\u001b[0m \u001b[38;5;28;01mreturn\u001b[39;00m \u001b[38;5;28mself\u001b[39m\u001b[38;5;241m.\u001b[39mbatch_request_observations(\u001b[38;5;28mproperty\u001b[39m, procedure, t_begin, t_end, feature_list)\n",
      "File \u001b[0;32m~/src/swin-waterways/datasets/.venv/lib/python3.11/site-packages/pybomwater/bom_water.py:513\u001b[0m, in \u001b[0;36mBomWater.create_feature_list\u001b[0;34m(self, bom_response_foi, path)\u001b[0m\n\u001b[1;32m    509\u001b[0m \u001b[38;5;66;03m# feature_list = []\u001b[39;00m\n\u001b[1;32m    510\u001b[0m \u001b[38;5;66;03m# with open('all_GetFeatureOfInterest.json', 'r') as fin:\u001b[39;00m\n\u001b[1;32m    511\u001b[0m \u001b[38;5;66;03m#     getfeature_json = json.load(fin)\u001b[39;00m\n\u001b[1;32m    512\u001b[0m su \u001b[38;5;241m=\u001b[39m spatail_utilty()\n\u001b[0;32m--> 513\u001b[0m features \u001b[38;5;241m=\u001b[39m \u001b[43mbom_response_foi\u001b[49m\u001b[43m[\u001b[49m\u001b[38;5;124;43m'\u001b[39;49m\u001b[38;5;124;43msoap12:Envelope\u001b[39;49m\u001b[38;5;124;43m'\u001b[39;49m\u001b[43m]\u001b[49m\u001b[43m[\u001b[49m\u001b[38;5;124;43m'\u001b[39;49m\u001b[38;5;124;43msoap12:Body\u001b[39;49m\u001b[38;5;124;43m'\u001b[39;49m\u001b[43m]\u001b[49m\u001b[43m[\u001b[49m\u001b[38;5;124;43m'\u001b[39;49m\u001b[38;5;124;43msos:GetFeatureOfInterestResponse\u001b[39;49m\u001b[38;5;124;43m'\u001b[39;49m\u001b[43m]\u001b[49m\u001b[43m[\u001b[49m\u001b[38;5;124;43m'\u001b[39;49m\u001b[38;5;124;43msos:featureMember\u001b[39;49m\u001b[38;5;124;43m'\u001b[39;49m\u001b[43m]\u001b[49m\n\u001b[1;32m    514\u001b[0m geojson_feature \u001b[38;5;241m=\u001b[39m []\n\u001b[1;32m    515\u001b[0m lat \u001b[38;5;241m=\u001b[39m \u001b[38;5;124m'\u001b[39m\u001b[38;5;124m'\u001b[39m\n",
      "\u001b[0;31mTypeError\u001b[0m: 'NoneType' object is not subscriptable"
     ]
    }
   ],
   "source": [
    "update_datasets.download_bom()"
   ]
  },
  {
   "cell_type": "code",
   "execution_count": 5,
   "id": "f3db4806",
   "metadata": {
    "metadata": {}
   },
   "outputs": [
    {
     "name": "stdout",
     "output_type": "stream",
     "text": [
      "Creating directories...\n"
     ]
    }
   ],
   "source": [
    "update_datasets.create(update_datasets.datasets, update_datasets.args.output_dir)"
   ]
  },
  {
   "cell_type": "code",
   "execution_count": 6,
   "id": "4dd723b2",
   "metadata": {
    "metadata": {},
    "scrolled": true
   },
   "outputs": [
    {
     "data": {
      "text/plain": [
       "<coroutine object download at 0x7002dc0f7d30>"
      ]
     },
     "execution_count": 6,
     "metadata": {},
     "output_type": "execute_result"
    }
   ],
   "source": [
    "update_datasets.download(update_datasets.datasets, update_datasets.headers)"
   ]
  },
  {
   "cell_type": "code",
   "execution_count": 7,
   "id": "aa1f0d30",
   "metadata": {
    "metadata": {}
   },
   "outputs": [
    {
     "name": "stdout",
     "output_type": "stream",
     "text": [
      "Merging datasets...\n",
      "\tmdba/campaspe/rochester.csv (Rochester)\n",
      "\tmdba/goulburn/mccoy-bridge.csv (Mccoy Bridge)\n",
      "\tmdba/loddon/kerang.csv (Kerang)\n",
      "\tbom/loddon/kerang/water_course_discharge.csv (Kerang)\n",
      "\tbom/loddon/kerang/water_course_level.csv (Kerang)\n",
      "\tbom/loddon/kerang/water_temperature.csv (Kerang)\n"
     ]
    }
   ],
   "source": [
    "merged_df = update_datasets.merge(update_datasets.datasets)"
   ]
  },
  {
   "cell_type": "code",
   "execution_count": 8,
   "id": "58f75fda",
   "metadata": {
    "metadata": {}
   },
   "outputs": [
    {
     "data": {
      "text/html": [
       "<div>\n",
       "<style scoped>\n",
       "    .dataframe tbody tr th:only-of-type {\n",
       "        vertical-align: middle;\n",
       "    }\n",
       "\n",
       "    .dataframe tbody tr th {\n",
       "        vertical-align: top;\n",
       "    }\n",
       "\n",
       "    .dataframe thead th {\n",
       "        text-align: right;\n",
       "    }\n",
       "</style>\n",
       "<table border=\"1\" class=\"dataframe\">\n",
       "  <thead>\n",
       "    <tr style=\"text-align: right;\">\n",
       "      <th></th>\n",
       "      <th></th>\n",
       "      <th>Water Level (m)</th>\n",
       "      <th>Discharge (ML/Day)</th>\n",
       "      <th>Rainfall (mm)</th>\n",
       "      <th>Cond @25 degC(uS/cm)</th>\n",
       "      <th>Water Temp (Deg C)</th>\n",
       "      <th>Disolv Oxgn (mg/l)</th>\n",
       "      <th>Value</th>\n",
       "      <th>Quality Code</th>\n",
       "      <th>Interpolation Type</th>\n",
       "    </tr>\n",
       "    <tr>\n",
       "      <th>Location</th>\n",
       "      <th>Date</th>\n",
       "      <th></th>\n",
       "      <th></th>\n",
       "      <th></th>\n",
       "      <th></th>\n",
       "      <th></th>\n",
       "      <th></th>\n",
       "      <th></th>\n",
       "      <th></th>\n",
       "      <th></th>\n",
       "    </tr>\n",
       "  </thead>\n",
       "  <tbody>\n",
       "    <tr>\n",
       "      <th rowspan=\"5\" valign=\"top\">Rochester</th>\n",
       "      <th>09:00:00 01/01/1900</th>\n",
       "      <td>0.036</td>\n",
       "      <td>0.0</td>\n",
       "      <td>NaN</td>\n",
       "      <td>NaN</td>\n",
       "      <td>NaN</td>\n",
       "      <td>NaN</td>\n",
       "      <td>NaN</td>\n",
       "      <td>NaN</td>\n",
       "      <td>NaN</td>\n",
       "    </tr>\n",
       "    <tr>\n",
       "      <th>09:00:00 02/01/1900</th>\n",
       "      <td>0.025</td>\n",
       "      <td>0.0</td>\n",
       "      <td>NaN</td>\n",
       "      <td>NaN</td>\n",
       "      <td>NaN</td>\n",
       "      <td>NaN</td>\n",
       "      <td>NaN</td>\n",
       "      <td>NaN</td>\n",
       "      <td>NaN</td>\n",
       "    </tr>\n",
       "    <tr>\n",
       "      <th>09:00:00 03/01/1900</th>\n",
       "      <td>0.025</td>\n",
       "      <td>0.0</td>\n",
       "      <td>NaN</td>\n",
       "      <td>NaN</td>\n",
       "      <td>NaN</td>\n",
       "      <td>NaN</td>\n",
       "      <td>NaN</td>\n",
       "      <td>NaN</td>\n",
       "      <td>NaN</td>\n",
       "    </tr>\n",
       "    <tr>\n",
       "      <th>09:00:00 04/01/1900</th>\n",
       "      <td>0.025</td>\n",
       "      <td>0.0</td>\n",
       "      <td>NaN</td>\n",
       "      <td>NaN</td>\n",
       "      <td>NaN</td>\n",
       "      <td>NaN</td>\n",
       "      <td>NaN</td>\n",
       "      <td>NaN</td>\n",
       "      <td>NaN</td>\n",
       "    </tr>\n",
       "    <tr>\n",
       "      <th>09:00:00 05/01/1900</th>\n",
       "      <td>0.011</td>\n",
       "      <td>0.0</td>\n",
       "      <td>NaN</td>\n",
       "      <td>NaN</td>\n",
       "      <td>NaN</td>\n",
       "      <td>NaN</td>\n",
       "      <td>NaN</td>\n",
       "      <td>NaN</td>\n",
       "      <td>NaN</td>\n",
       "    </tr>\n",
       "    <tr>\n",
       "      <th>...</th>\n",
       "      <th>...</th>\n",
       "      <td>...</td>\n",
       "      <td>...</td>\n",
       "      <td>...</td>\n",
       "      <td>...</td>\n",
       "      <td>...</td>\n",
       "      <td>...</td>\n",
       "      <td>...</td>\n",
       "      <td>...</td>\n",
       "      <td>...</td>\n",
       "    </tr>\n",
       "    <tr>\n",
       "      <th rowspan=\"5\" valign=\"top\">Kerang</th>\n",
       "      <th>2024-04-19T23:00:00.000+10:00</th>\n",
       "      <td>NaN</td>\n",
       "      <td>NaN</td>\n",
       "      <td>NaN</td>\n",
       "      <td>NaN</td>\n",
       "      <td>NaN</td>\n",
       "      <td>NaN</td>\n",
       "      <td>16.7</td>\n",
       "      <td>10.0</td>\n",
       "      <td>102.0</td>\n",
       "    </tr>\n",
       "    <tr>\n",
       "      <th>2024-04-19T23:15:00.000+10:00</th>\n",
       "      <td>NaN</td>\n",
       "      <td>NaN</td>\n",
       "      <td>NaN</td>\n",
       "      <td>NaN</td>\n",
       "      <td>NaN</td>\n",
       "      <td>NaN</td>\n",
       "      <td>16.5</td>\n",
       "      <td>10.0</td>\n",
       "      <td>102.0</td>\n",
       "    </tr>\n",
       "    <tr>\n",
       "      <th>2024-04-19T23:30:00.000+10:00</th>\n",
       "      <td>NaN</td>\n",
       "      <td>NaN</td>\n",
       "      <td>NaN</td>\n",
       "      <td>NaN</td>\n",
       "      <td>NaN</td>\n",
       "      <td>NaN</td>\n",
       "      <td>16.6</td>\n",
       "      <td>10.0</td>\n",
       "      <td>102.0</td>\n",
       "    </tr>\n",
       "    <tr>\n",
       "      <th>2024-04-19T23:45:00.000+10:00</th>\n",
       "      <td>NaN</td>\n",
       "      <td>NaN</td>\n",
       "      <td>NaN</td>\n",
       "      <td>NaN</td>\n",
       "      <td>NaN</td>\n",
       "      <td>NaN</td>\n",
       "      <td>16.5</td>\n",
       "      <td>10.0</td>\n",
       "      <td>102.0</td>\n",
       "    </tr>\n",
       "    <tr>\n",
       "      <th>2024-04-20T00:00:00.000+10:00</th>\n",
       "      <td>NaN</td>\n",
       "      <td>NaN</td>\n",
       "      <td>NaN</td>\n",
       "      <td>NaN</td>\n",
       "      <td>NaN</td>\n",
       "      <td>NaN</td>\n",
       "      <td>16.5</td>\n",
       "      <td>10.0</td>\n",
       "      <td>102.0</td>\n",
       "    </tr>\n",
       "  </tbody>\n",
       "</table>\n",
       "<p>2024933 rows × 9 columns</p>\n",
       "</div>"
      ],
      "text/plain": [
       "                                         Water Level (m)  Discharge (ML/Day)  \\\n",
       "Location  Date                                                                 \n",
       "Rochester 09:00:00 01/01/1900                      0.036                 0.0   \n",
       "          09:00:00 02/01/1900                      0.025                 0.0   \n",
       "          09:00:00 03/01/1900                      0.025                 0.0   \n",
       "          09:00:00 04/01/1900                      0.025                 0.0   \n",
       "          09:00:00 05/01/1900                      0.011                 0.0   \n",
       "...                                                  ...                 ...   \n",
       "Kerang    2024-04-19T23:00:00.000+10:00              NaN                 NaN   \n",
       "          2024-04-19T23:15:00.000+10:00              NaN                 NaN   \n",
       "          2024-04-19T23:30:00.000+10:00              NaN                 NaN   \n",
       "          2024-04-19T23:45:00.000+10:00              NaN                 NaN   \n",
       "          2024-04-20T00:00:00.000+10:00              NaN                 NaN   \n",
       "\n",
       "                                         Rainfall (mm)  Cond @25 degC(uS/cm)  \\\n",
       "Location  Date                                                                 \n",
       "Rochester 09:00:00 01/01/1900                      NaN                   NaN   \n",
       "          09:00:00 02/01/1900                      NaN                   NaN   \n",
       "          09:00:00 03/01/1900                      NaN                   NaN   \n",
       "          09:00:00 04/01/1900                      NaN                   NaN   \n",
       "          09:00:00 05/01/1900                      NaN                   NaN   \n",
       "...                                                ...                   ...   \n",
       "Kerang    2024-04-19T23:00:00.000+10:00            NaN                   NaN   \n",
       "          2024-04-19T23:15:00.000+10:00            NaN                   NaN   \n",
       "          2024-04-19T23:30:00.000+10:00            NaN                   NaN   \n",
       "          2024-04-19T23:45:00.000+10:00            NaN                   NaN   \n",
       "          2024-04-20T00:00:00.000+10:00            NaN                   NaN   \n",
       "\n",
       "                                         Water Temp (Deg C)  \\\n",
       "Location  Date                                                \n",
       "Rochester 09:00:00 01/01/1900                           NaN   \n",
       "          09:00:00 02/01/1900                           NaN   \n",
       "          09:00:00 03/01/1900                           NaN   \n",
       "          09:00:00 04/01/1900                           NaN   \n",
       "          09:00:00 05/01/1900                           NaN   \n",
       "...                                                     ...   \n",
       "Kerang    2024-04-19T23:00:00.000+10:00                 NaN   \n",
       "          2024-04-19T23:15:00.000+10:00                 NaN   \n",
       "          2024-04-19T23:30:00.000+10:00                 NaN   \n",
       "          2024-04-19T23:45:00.000+10:00                 NaN   \n",
       "          2024-04-20T00:00:00.000+10:00                 NaN   \n",
       "\n",
       "                                         Disolv Oxgn (mg/l)  Value  \\\n",
       "Location  Date                                                       \n",
       "Rochester 09:00:00 01/01/1900                           NaN    NaN   \n",
       "          09:00:00 02/01/1900                           NaN    NaN   \n",
       "          09:00:00 03/01/1900                           NaN    NaN   \n",
       "          09:00:00 04/01/1900                           NaN    NaN   \n",
       "          09:00:00 05/01/1900                           NaN    NaN   \n",
       "...                                                     ...    ...   \n",
       "Kerang    2024-04-19T23:00:00.000+10:00                 NaN   16.7   \n",
       "          2024-04-19T23:15:00.000+10:00                 NaN   16.5   \n",
       "          2024-04-19T23:30:00.000+10:00                 NaN   16.6   \n",
       "          2024-04-19T23:45:00.000+10:00                 NaN   16.5   \n",
       "          2024-04-20T00:00:00.000+10:00                 NaN   16.5   \n",
       "\n",
       "                                         Quality Code  Interpolation Type  \n",
       "Location  Date                                                             \n",
       "Rochester 09:00:00 01/01/1900                     NaN                 NaN  \n",
       "          09:00:00 02/01/1900                     NaN                 NaN  \n",
       "          09:00:00 03/01/1900                     NaN                 NaN  \n",
       "          09:00:00 04/01/1900                     NaN                 NaN  \n",
       "          09:00:00 05/01/1900                     NaN                 NaN  \n",
       "...                                               ...                 ...  \n",
       "Kerang    2024-04-19T23:00:00.000+10:00          10.0               102.0  \n",
       "          2024-04-19T23:15:00.000+10:00          10.0               102.0  \n",
       "          2024-04-19T23:30:00.000+10:00          10.0               102.0  \n",
       "          2024-04-19T23:45:00.000+10:00          10.0               102.0  \n",
       "          2024-04-20T00:00:00.000+10:00          10.0               102.0  \n",
       "\n",
       "[2024933 rows x 9 columns]"
      ]
     },
     "execution_count": 8,
     "metadata": {},
     "output_type": "execute_result"
    }
   ],
   "source": [
    "merged_df"
   ]
  },
  {
   "cell_type": "code",
   "execution_count": null,
   "id": "94364dec",
   "metadata": {
    "metadata": {}
   },
   "outputs": [
    {
     "name": "stdout",
     "output_type": "stream",
     "text": [
      "Writing merged data...\n",
      "\tWritten to datasets.csv\n"
     ]
    }
   ],
   "source": [
    "update_datasets.output(merged_df, update_datasets.args.outfile)"
   ]
  }
 ],
 "metadata": {
  "kernelspec": {
   "display_name": "Python 3 (ipykernel)",
   "language": "python",
   "name": "python3"
  },
  "language_info": {
   "codemirror_mode": {
    "name": "ipython",
    "version": 3
   },
   "file_extension": ".py",
   "mimetype": "text/x-python",
   "name": "python",
   "nbconvert_exporter": "python",
   "pygments_lexer": "ipython3",
   "version": "3.11.6"
  }
 },
 "nbformat": 4,
 "nbformat_minor": 5
}
