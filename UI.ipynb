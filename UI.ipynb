{
 "cells": [
  {
   "cell_type": "code",
   "execution_count": 19,
   "id": "582c6f04",
   "metadata": {
    "metadata": {}
   },
   "outputs": [],
   "source": [
    "import update_datasets"
   ]
  },
  {
   "cell_type": "code",
   "execution_count": 20,
   "id": "f3db4806",
   "metadata": {
    "metadata": {}
   },
   "outputs": [
    {
     "name": "stdout",
     "output_type": "stream",
     "text": [
      "Creating directories...\n"
     ]
    }
   ],
   "source": [
    "update_datasets.create(update_datasets.datasets)"
   ]
  },
  {
   "cell_type": "code",
   "execution_count": 21,
   "id": "4dd723b2",
   "metadata": {
    "metadata": {},
    "scrolled": true
   },
   "outputs": [
    {
     "data": {
      "text/plain": [
       "<coroutine object download at 0x752560305a80>"
      ]
     },
     "execution_count": 21,
     "metadata": {},
     "output_type": "execute_result"
    }
   ],
   "source": [
    "update_datasets.download(update_datasets.datasets, update_datasets.headers)"
   ]
  },
  {
   "cell_type": "code",
   "execution_count": 25,
   "id": "aa1f0d30",
   "metadata": {
    "metadata": {}
   },
   "outputs": [
    {
     "name": "stdout",
     "output_type": "stream",
     "text": [
      "Merging datasets...\n",
      "\tmdba/campaspe/rochester.csv (Rochester)\n",
      "\tmdba/goulburn/mccoy-bridge.csv (Mccoy Bridge)\n",
      "\tmdba/loddon/kerang.csv (Kerang)\n",
      "\tbom/loddon/kerang/water_course_discharge.csv (Kerang)\n",
      "\tbom/loddon/kerang/water_course_level.csv (Kerang)\n",
      "\tbom/loddon/kerang/water_temperature.csv (Kerang)\n"
     ]
    }
   ],
   "source": [
    "merged_df = update_datasets.merge(update_datasets.datasets)"
   ]
  },
  {
   "cell_type": "code",
   "execution_count": 26,
   "id": "58f75fda",
   "metadata": {
    "metadata": {}
   },
   "outputs": [
    {
     "data": {
      "text/html": [
       "<div>\n",
       "<style scoped>\n",
       "    .dataframe tbody tr th:only-of-type {\n",
       "        vertical-align: middle;\n",
       "    }\n",
       "\n",
       "    .dataframe tbody tr th {\n",
       "        vertical-align: top;\n",
       "    }\n",
       "\n",
       "    .dataframe thead th {\n",
       "        text-align: right;\n",
       "    }\n",
       "</style>\n",
       "<table border=\"1\" class=\"dataframe\">\n",
       "  <thead>\n",
       "    <tr style=\"text-align: right;\">\n",
       "      <th></th>\n",
       "      <th></th>\n",
       "      <th>Water Level (m)</th>\n",
       "      <th>Discharge (ML/Day)</th>\n",
       "      <th>Rainfall (mm)</th>\n",
       "      <th>Cond @25 degC(uS/cm)</th>\n",
       "      <th>Water Temp (Deg C)</th>\n",
       "      <th>Disolv Oxgn (mg/l)</th>\n",
       "      <th>Value</th>\n",
       "      <th>Quality Code</th>\n",
       "      <th>Interpolation Type</th>\n",
       "    </tr>\n",
       "    <tr>\n",
       "      <th>Location</th>\n",
       "      <th>Date</th>\n",
       "      <th></th>\n",
       "      <th></th>\n",
       "      <th></th>\n",
       "      <th></th>\n",
       "      <th></th>\n",
       "      <th></th>\n",
       "      <th></th>\n",
       "      <th></th>\n",
       "      <th></th>\n",
       "    </tr>\n",
       "  </thead>\n",
       "  <tbody>\n",
       "    <tr>\n",
       "      <th rowspan=\"5\" valign=\"top\">Rochester</th>\n",
       "      <th>09:00:00 01/01/1900</th>\n",
       "      <td>0.036</td>\n",
       "      <td>0.0</td>\n",
       "      <td>NaN</td>\n",
       "      <td>NaN</td>\n",
       "      <td>NaN</td>\n",
       "      <td>NaN</td>\n",
       "      <td>NaN</td>\n",
       "      <td>NaN</td>\n",
       "      <td>NaN</td>\n",
       "    </tr>\n",
       "    <tr>\n",
       "      <th>09:00:00 02/01/1900</th>\n",
       "      <td>0.025</td>\n",
       "      <td>0.0</td>\n",
       "      <td>NaN</td>\n",
       "      <td>NaN</td>\n",
       "      <td>NaN</td>\n",
       "      <td>NaN</td>\n",
       "      <td>NaN</td>\n",
       "      <td>NaN</td>\n",
       "      <td>NaN</td>\n",
       "    </tr>\n",
       "    <tr>\n",
       "      <th>09:00:00 03/01/1900</th>\n",
       "      <td>0.025</td>\n",
       "      <td>0.0</td>\n",
       "      <td>NaN</td>\n",
       "      <td>NaN</td>\n",
       "      <td>NaN</td>\n",
       "      <td>NaN</td>\n",
       "      <td>NaN</td>\n",
       "      <td>NaN</td>\n",
       "      <td>NaN</td>\n",
       "    </tr>\n",
       "    <tr>\n",
       "      <th>09:00:00 04/01/1900</th>\n",
       "      <td>0.025</td>\n",
       "      <td>0.0</td>\n",
       "      <td>NaN</td>\n",
       "      <td>NaN</td>\n",
       "      <td>NaN</td>\n",
       "      <td>NaN</td>\n",
       "      <td>NaN</td>\n",
       "      <td>NaN</td>\n",
       "      <td>NaN</td>\n",
       "    </tr>\n",
       "    <tr>\n",
       "      <th>09:00:00 05/01/1900</th>\n",
       "      <td>0.011</td>\n",
       "      <td>0.0</td>\n",
       "      <td>NaN</td>\n",
       "      <td>NaN</td>\n",
       "      <td>NaN</td>\n",
       "      <td>NaN</td>\n",
       "      <td>NaN</td>\n",
       "      <td>NaN</td>\n",
       "      <td>NaN</td>\n",
       "    </tr>\n",
       "    <tr>\n",
       "      <th>...</th>\n",
       "      <th>...</th>\n",
       "      <td>...</td>\n",
       "      <td>...</td>\n",
       "      <td>...</td>\n",
       "      <td>...</td>\n",
       "      <td>...</td>\n",
       "      <td>...</td>\n",
       "      <td>...</td>\n",
       "      <td>...</td>\n",
       "      <td>...</td>\n",
       "    </tr>\n",
       "    <tr>\n",
       "      <th rowspan=\"5\" valign=\"top\">Kerang</th>\n",
       "      <th>2024-04-19T23:00:00.000+10:00</th>\n",
       "      <td>NaN</td>\n",
       "      <td>NaN</td>\n",
       "      <td>NaN</td>\n",
       "      <td>NaN</td>\n",
       "      <td>NaN</td>\n",
       "      <td>NaN</td>\n",
       "      <td>16.7</td>\n",
       "      <td>10.0</td>\n",
       "      <td>102.0</td>\n",
       "    </tr>\n",
       "    <tr>\n",
       "      <th>2024-04-19T23:15:00.000+10:00</th>\n",
       "      <td>NaN</td>\n",
       "      <td>NaN</td>\n",
       "      <td>NaN</td>\n",
       "      <td>NaN</td>\n",
       "      <td>NaN</td>\n",
       "      <td>NaN</td>\n",
       "      <td>16.5</td>\n",
       "      <td>10.0</td>\n",
       "      <td>102.0</td>\n",
       "    </tr>\n",
       "    <tr>\n",
       "      <th>2024-04-19T23:30:00.000+10:00</th>\n",
       "      <td>NaN</td>\n",
       "      <td>NaN</td>\n",
       "      <td>NaN</td>\n",
       "      <td>NaN</td>\n",
       "      <td>NaN</td>\n",
       "      <td>NaN</td>\n",
       "      <td>16.6</td>\n",
       "      <td>10.0</td>\n",
       "      <td>102.0</td>\n",
       "    </tr>\n",
       "    <tr>\n",
       "      <th>2024-04-19T23:45:00.000+10:00</th>\n",
       "      <td>NaN</td>\n",
       "      <td>NaN</td>\n",
       "      <td>NaN</td>\n",
       "      <td>NaN</td>\n",
       "      <td>NaN</td>\n",
       "      <td>NaN</td>\n",
       "      <td>16.5</td>\n",
       "      <td>10.0</td>\n",
       "      <td>102.0</td>\n",
       "    </tr>\n",
       "    <tr>\n",
       "      <th>2024-04-20T00:00:00.000+10:00</th>\n",
       "      <td>NaN</td>\n",
       "      <td>NaN</td>\n",
       "      <td>NaN</td>\n",
       "      <td>NaN</td>\n",
       "      <td>NaN</td>\n",
       "      <td>NaN</td>\n",
       "      <td>16.5</td>\n",
       "      <td>10.0</td>\n",
       "      <td>102.0</td>\n",
       "    </tr>\n",
       "  </tbody>\n",
       "</table>\n",
       "<p>2024933 rows × 9 columns</p>\n",
       "</div>"
      ],
      "text/plain": [
       "                                         Water Level (m)  Discharge (ML/Day)  \\\n",
       "Location  Date                                                                 \n",
       "Rochester 09:00:00 01/01/1900                      0.036                 0.0   \n",
       "          09:00:00 02/01/1900                      0.025                 0.0   \n",
       "          09:00:00 03/01/1900                      0.025                 0.0   \n",
       "          09:00:00 04/01/1900                      0.025                 0.0   \n",
       "          09:00:00 05/01/1900                      0.011                 0.0   \n",
       "...                                                  ...                 ...   \n",
       "Kerang    2024-04-19T23:00:00.000+10:00              NaN                 NaN   \n",
       "          2024-04-19T23:15:00.000+10:00              NaN                 NaN   \n",
       "          2024-04-19T23:30:00.000+10:00              NaN                 NaN   \n",
       "          2024-04-19T23:45:00.000+10:00              NaN                 NaN   \n",
       "          2024-04-20T00:00:00.000+10:00              NaN                 NaN   \n",
       "\n",
       "                                         Rainfall (mm)  Cond @25 degC(uS/cm)  \\\n",
       "Location  Date                                                                 \n",
       "Rochester 09:00:00 01/01/1900                      NaN                   NaN   \n",
       "          09:00:00 02/01/1900                      NaN                   NaN   \n",
       "          09:00:00 03/01/1900                      NaN                   NaN   \n",
       "          09:00:00 04/01/1900                      NaN                   NaN   \n",
       "          09:00:00 05/01/1900                      NaN                   NaN   \n",
       "...                                                ...                   ...   \n",
       "Kerang    2024-04-19T23:00:00.000+10:00            NaN                   NaN   \n",
       "          2024-04-19T23:15:00.000+10:00            NaN                   NaN   \n",
       "          2024-04-19T23:30:00.000+10:00            NaN                   NaN   \n",
       "          2024-04-19T23:45:00.000+10:00            NaN                   NaN   \n",
       "          2024-04-20T00:00:00.000+10:00            NaN                   NaN   \n",
       "\n",
       "                                         Water Temp (Deg C)  \\\n",
       "Location  Date                                                \n",
       "Rochester 09:00:00 01/01/1900                           NaN   \n",
       "          09:00:00 02/01/1900                           NaN   \n",
       "          09:00:00 03/01/1900                           NaN   \n",
       "          09:00:00 04/01/1900                           NaN   \n",
       "          09:00:00 05/01/1900                           NaN   \n",
       "...                                                     ...   \n",
       "Kerang    2024-04-19T23:00:00.000+10:00                 NaN   \n",
       "          2024-04-19T23:15:00.000+10:00                 NaN   \n",
       "          2024-04-19T23:30:00.000+10:00                 NaN   \n",
       "          2024-04-19T23:45:00.000+10:00                 NaN   \n",
       "          2024-04-20T00:00:00.000+10:00                 NaN   \n",
       "\n",
       "                                         Disolv Oxgn (mg/l)  Value  \\\n",
       "Location  Date                                                       \n",
       "Rochester 09:00:00 01/01/1900                           NaN    NaN   \n",
       "          09:00:00 02/01/1900                           NaN    NaN   \n",
       "          09:00:00 03/01/1900                           NaN    NaN   \n",
       "          09:00:00 04/01/1900                           NaN    NaN   \n",
       "          09:00:00 05/01/1900                           NaN    NaN   \n",
       "...                                                     ...    ...   \n",
       "Kerang    2024-04-19T23:00:00.000+10:00                 NaN   16.7   \n",
       "          2024-04-19T23:15:00.000+10:00                 NaN   16.5   \n",
       "          2024-04-19T23:30:00.000+10:00                 NaN   16.6   \n",
       "          2024-04-19T23:45:00.000+10:00                 NaN   16.5   \n",
       "          2024-04-20T00:00:00.000+10:00                 NaN   16.5   \n",
       "\n",
       "                                         Quality Code  Interpolation Type  \n",
       "Location  Date                                                             \n",
       "Rochester 09:00:00 01/01/1900                     NaN                 NaN  \n",
       "          09:00:00 02/01/1900                     NaN                 NaN  \n",
       "          09:00:00 03/01/1900                     NaN                 NaN  \n",
       "          09:00:00 04/01/1900                     NaN                 NaN  \n",
       "          09:00:00 05/01/1900                     NaN                 NaN  \n",
       "...                                               ...                 ...  \n",
       "Kerang    2024-04-19T23:00:00.000+10:00          10.0               102.0  \n",
       "          2024-04-19T23:15:00.000+10:00          10.0               102.0  \n",
       "          2024-04-19T23:30:00.000+10:00          10.0               102.0  \n",
       "          2024-04-19T23:45:00.000+10:00          10.0               102.0  \n",
       "          2024-04-20T00:00:00.000+10:00          10.0               102.0  \n",
       "\n",
       "[2024933 rows x 9 columns]"
      ]
     },
     "execution_count": 26,
     "metadata": {},
     "output_type": "execute_result"
    }
   ],
   "source": [
    "merged_df"
   ]
  },
  {
   "cell_type": "code",
   "execution_count": 27,
   "id": "94364dec",
   "metadata": {
    "metadata": {}
   },
   "outputs": [
    {
     "name": "stdout",
     "output_type": "stream",
     "text": [
      "Writing merged data...\n",
      "\tWritten to datasets.csv\n"
     ]
    }
   ],
   "source": [
    "update_datasets.output(merged_df, update_datasets.args.outfile)"
   ]
  }
 ],
 "metadata": {
  "kernelspec": {
   "display_name": "Python 3 (ipykernel)",
   "language": "python",
   "name": "python3"
  },
  "language_info": {
   "codemirror_mode": {
    "name": "ipython",
    "version": 3
   },
   "file_extension": ".py",
   "mimetype": "text/x-python",
   "name": "python",
   "nbconvert_exporter": "python",
   "pygments_lexer": "ipython3",
   "version": "3.11.6"
  }
 },
 "nbformat": 4,
 "nbformat_minor": 5
}
